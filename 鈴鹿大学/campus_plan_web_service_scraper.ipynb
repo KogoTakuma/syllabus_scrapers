{
 "cells": [
  {
   "cell_type": "markdown",
   "metadata": {},
   "source": [
    "##  準備"
   ]
  },
  {
   "cell_type": "code",
   "execution_count": 2,
   "metadata": {},
   "outputs": [
    {
     "name": "stdout",
     "output_type": "stream",
     "text": [
      "Requirement already satisfied: selenium in /opt/anaconda3/lib/python3.9/site-packages (4.1.0)\n",
      "Requirement already satisfied: trio~=0.17 in /opt/anaconda3/lib/python3.9/site-packages (from selenium) (0.22.0)\n",
      "Requirement already satisfied: trio-websocket~=0.9 in /opt/anaconda3/lib/python3.9/site-packages (from selenium) (0.10.2)\n",
      "Collecting urllib3[secure]~=1.26\n",
      "  Using cached urllib3-1.26.16-py2.py3-none-any.whl (143 kB)\n",
      "Requirement already satisfied: sortedcontainers in /opt/anaconda3/lib/python3.9/site-packages (from trio~=0.17->selenium) (2.4.0)\n",
      "Requirement already satisfied: exceptiongroup>=1.0.0rc9 in /opt/anaconda3/lib/python3.9/site-packages (from trio~=0.17->selenium) (1.1.1)\n",
      "Requirement already satisfied: outcome in /opt/anaconda3/lib/python3.9/site-packages (from trio~=0.17->selenium) (1.2.0)\n",
      "Requirement already satisfied: attrs>=19.2.0 in /opt/anaconda3/lib/python3.9/site-packages (from trio~=0.17->selenium) (21.2.0)\n",
      "Requirement already satisfied: idna in /opt/anaconda3/lib/python3.9/site-packages (from trio~=0.17->selenium) (2.8)\n",
      "Requirement already satisfied: async-generator>=1.9 in /opt/anaconda3/lib/python3.9/site-packages (from trio~=0.17->selenium) (1.10)\n",
      "Requirement already satisfied: sniffio in /opt/anaconda3/lib/python3.9/site-packages (from trio~=0.17->selenium) (1.2.0)\n",
      "Requirement already satisfied: wsproto>=0.14 in /opt/anaconda3/lib/python3.9/site-packages (from trio-websocket~=0.9->selenium) (1.2.0)\n",
      "Requirement already satisfied: cryptography>=1.3.4 in /opt/anaconda3/lib/python3.9/site-packages (from urllib3[secure]~=1.26->selenium) (3.4.8)\n",
      "Requirement already satisfied: urllib3-secure-extra in /opt/anaconda3/lib/python3.9/site-packages (from urllib3[secure]~=1.26->selenium) (0.1.0)\n",
      "Requirement already satisfied: certifi in /opt/anaconda3/lib/python3.9/site-packages (from urllib3[secure]~=1.26->selenium) (2021.10.8)\n",
      "Requirement already satisfied: pyOpenSSL>=0.14 in /opt/anaconda3/lib/python3.9/site-packages (from urllib3[secure]~=1.26->selenium) (21.0.0)\n",
      "Requirement already satisfied: cffi>=1.12 in /opt/anaconda3/lib/python3.9/site-packages (from cryptography>=1.3.4->urllib3[secure]~=1.26->selenium) (1.14.6)\n",
      "Requirement already satisfied: pycparser in /opt/anaconda3/lib/python3.9/site-packages (from cffi>=1.12->cryptography>=1.3.4->urllib3[secure]~=1.26->selenium) (2.20)\n",
      "Requirement already satisfied: six>=1.5.2 in /opt/anaconda3/lib/python3.9/site-packages (from pyOpenSSL>=0.14->urllib3[secure]~=1.26->selenium) (1.16.0)\n",
      "Requirement already satisfied: h11<1,>=0.9.0 in /opt/anaconda3/lib/python3.9/site-packages (from wsproto>=0.14->trio-websocket~=0.9->selenium) (0.14.0)\n",
      "Installing collected packages: urllib3\n",
      "  Attempting uninstall: urllib3\n",
      "    Found existing installation: urllib3 1.25.11\n",
      "    Uninstalling urllib3-1.25.11:\n",
      "      Successfully uninstalled urllib3-1.25.11\n",
      "\u001b[31mERROR: pip's dependency resolver does not currently take into account all the packages that are installed. This behaviour is the source of the following dependency conflicts.\n",
      "conda-repo-cli 1.0.4 requires pathlib, which is not installed.\n",
      "anaconda-project 0.10.1 requires ruamel-yaml, which is not installed.\n",
      "requests 2.22.0 requires urllib3!=1.25.0,!=1.25.1,<1.26,>=1.21.1, but you have urllib3 1.26.16 which is incompatible.\n",
      "cookiecutter 1.7.2 requires requests>=2.23.0, but you have requests 2.22.0 which is incompatible.\u001b[0m\n",
      "Successfully installed urllib3-1.26.16\n",
      "Requirement already satisfied: beautiful in /opt/anaconda3/lib/python3.9/site-packages (0.0.2)\n",
      "Requirement already satisfied: requests in /opt/anaconda3/lib/python3.9/site-packages (2.22.0)\n",
      "Requirement already satisfied: chardet<3.1.0,>=3.0.2 in /opt/anaconda3/lib/python3.9/site-packages (from requests) (3.0.4)\n",
      "Requirement already satisfied: idna<2.9,>=2.5 in /opt/anaconda3/lib/python3.9/site-packages (from requests) (2.8)\n",
      "Collecting urllib3!=1.25.0,!=1.25.1,<1.26,>=1.21.1\n",
      "  Using cached urllib3-1.25.11-py2.py3-none-any.whl (127 kB)\n",
      "Requirement already satisfied: certifi>=2017.4.17 in /opt/anaconda3/lib/python3.9/site-packages (from requests) (2021.10.8)\n",
      "Installing collected packages: urllib3\n",
      "  Attempting uninstall: urllib3\n",
      "    Found existing installation: urllib3 1.26.16\n",
      "    Uninstalling urllib3-1.26.16:\n",
      "      Successfully uninstalled urllib3-1.26.16\n",
      "\u001b[31mERROR: pip's dependency resolver does not currently take into account all the packages that are installed. This behaviour is the source of the following dependency conflicts.\n",
      "conda-repo-cli 1.0.4 requires pathlib, which is not installed.\n",
      "anaconda-project 0.10.1 requires ruamel-yaml, which is not installed.\n",
      "selenium 4.1.0 requires urllib3[secure]~=1.26, but you have urllib3 1.25.11 which is incompatible.\n",
      "cookiecutter 1.7.2 requires requests>=2.23.0, but you have requests 2.22.0 which is incompatible.\u001b[0m\n",
      "Successfully installed urllib3-1.25.11\n",
      "Requirement already satisfied: BeautifulSoup4 in /opt/anaconda3/lib/python3.9/site-packages (4.8.2)\n",
      "Requirement already satisfied: soupsieve>=1.2 in /opt/anaconda3/lib/python3.9/site-packages (from BeautifulSoup4) (2.2.1)\n"
     ]
    }
   ],
   "source": [
    "from pathlib import Path\n",
    "from bs4 import BeautifulSoup\n",
    "import json\n",
    "import os\n",
    "import re\n",
    "import time\n",
    "import logging\n",
    "import pandas as pd\n",
    "!pip install selenium\n",
    "!pip install beautiful requests\n",
    "!pip install BeautifulSoup4\n",
    "from selenium import webdriver\n",
    "from selenium.webdriver.support.select import Select\n",
    "import requests\n",
    "from bs4 import BeautifulSoup\n",
    "from selenium.webdriver.common.by import By\n",
    "from time import sleep\n",
    "from selenium.common.exceptions import UnexpectedAlertPresentException\n",
    "from selenium.webdriver.common.alert import Alert\n",
    "\n",
    "pd.set_option('display.max_rows', 100)"
   ]
  },
  {
   "cell_type": "code",
   "execution_count": 57,
   "metadata": {},
   "outputs": [],
   "source": [
    "search_url = \"https://suzukadaigaku-web.campusplan.jp/public/web/Syllabus/WebSyllabusKensaku/UI/WSL_SyllabusKensaku.aspx\"\n",
    "base_url = \"https://suzukadaigaku-web.campusplan.jp\"\n",
    "browser1 = webdriver.Chrome()\n",
    "browser1.get(search_url)\n",
    "sleep(5)\n",
    "search_button = browser1.find_element(By.NAME,'btnSearch')\n",
    "search_button.click()"
   ]
  },
  {
   "cell_type": "code",
   "execution_count": 55,
   "metadata": {},
   "outputs": [],
   "source": [
    "#検索結果の表示ページを切り替える\n",
    "def nexe_page(browser):\n",
    "    next_button = browser1.find_element(By.LINK_TEXT, '次ページ＞')   \n",
    "    next_button.click()\n",
    "\n",
    "\n",
    "def is_next_page_exist(browser):\n",
    "    next_button = browser1.find_element(By.LINK_TEXT, '次ページ＞')   \n",
    "    if(next_button.get_attribute(\"disabled\") == \"true\"):\n",
    "        print(\"this is the last page.\")\n",
    "        return False\n",
    "    else:\n",
    "        return True\n",
    "\n",
    "def record_links(browser):\n",
    "    main_table = browser1.find_element(By.CLASS_NAME, 'last-table')\n",
    "    tr_elements = main_table.find_elements(By.TAG_NAME, 'tr')\n",
    "    for tr_element in tr_elements:\n",
    "    # <input>要素を取得します\n",
    "        try:\n",
    "            input_element = tr_element.find_element(By.TAG_NAME, 'input')\n",
    "        except:\n",
    "            #ヘッダー行の回避\n",
    "            continue\n",
    "        raw_code = input_element.get_attribute(\"onClick\")\n",
    "        start_index = raw_code.find(\"win = window.open('\") + 1\n",
    "        end_index = raw_code.find(\"','WSL_SyllabusSanshoaspx\")\n",
    "        raw_code = input_element.get_attribute(\"onClick\")\n",
    "        start_index = raw_code.find(\"win = window.open('\") + 1\n",
    "        end_index = raw_code.find(\"','WSL_SyllabusSanshoaspx\")\n",
    "        substring = raw_code[start_index:end_index]\n",
    "        key = substring.replace(\"in = window.open('\", \"\")\n",
    "        access_url = base_url + key\n",
    "        with open('links.txt', 'a') as f:\n",
    "            print(access_url, file=f)\n"
   ]
  },
  {
   "cell_type": "code",
   "execution_count": 56,
   "metadata": {},
   "outputs": [
    {
     "name": "stdout",
     "output_type": "stream",
     "text": [
      "this is the last page.\n"
     ]
    }
   ],
   "source": [
    "record_links(browser1)\n",
    "while(is_next_page_exist(browser1)):\n",
    "    nexe_page(browser1)\n",
    "    record_links(browser1)"
   ]
  },
  {
   "cell_type": "code",
   "execution_count": 7,
   "metadata": {},
   "outputs": [],
   "source": [
    "#表示されているページにある<a>タグを全て取得しそのリンクにアクセスしhtmlをダウンロードする関数\n",
    "def get_html(save_path):\n",
    "\n",
    "    \n",
    "\n",
    "    # 保存先の作成\n",
    "    def create_directory_if_not_exists(directory_path):\n",
    "        if not os.path.exists(directory_path):\n",
    "            os.makedirs(directory_path)\n",
    "            print(f\"ディレクトリ '{directory_path}' を作成しました。\")\n",
    "            logging.info(f\"ディレクトリ '{directory_path}' を作成しました。\")   \n",
    "        else:\n",
    "            print(f\"ディレクトリ '{directory_path}' は既に存在します。\")\n",
    "\n",
    "\n",
    "\n",
    "    \n",
    "\n",
    "    main_table = browser1.find_element(By.CLASS_NAME, 'last-table')\n",
    "    tr_elements = main_table.find_elements(By.TAG_NAME, 'tr')\n",
    "    count = 0\n",
    "    for tr_element in tr_elements:\n",
    "        # <input>要素を取得します\n",
    "        count = count+1\n",
    "        try:\n",
    "            input_element = tr_element.find_element(By.TAG_NAME, 'input')\n",
    "        except:\n",
    "            continue\n",
    "        td_elements = tr_element.find_elements(By.TAG_NAME, 'td')\n",
    "        td_elements_text = []\n",
    "        for td_element in td_elements:\n",
    "            td_elements_text.append(td_element.text)\n",
    "\n",
    "        try:\n",
    "            fixed_kubun = td_elements_text[9]\n",
    "            directory_path = \"./html/\" + fixed_kubun\n",
    "            create_directory_if_not_exists(directory_path)\n",
    "\n",
    "            raw_code = input_element.get_attribute(\"onClick\")\n",
    "            start_index = raw_code.find(\"win = window.open('\") + 1\n",
    "            end_index = raw_code.find(\"','WSL_SyllabusSanshoaspx\")\n",
    "            substring = raw_code[start_index:end_index]\n",
    "            key = substring.replace(\"in = window.open('\", \"\")\n",
    "            url = \"https://narapu-web.campusplan.jp/public/web/Syllabus/WebSyllabusSansho/UI/WSL_SyllabusSansho.aspx\" + key\n",
    "            response = requests.get(url)\n",
    "            html = response.text\n",
    "            time.sleep(3)\n",
    "            # htmlをファイルに保存\n",
    "            file_name = td_elements_text[2]\n",
    "            with open(r\"\"+directory_path + \"/\" + file_name + \".html\", 'w', encoding='utf-8') as f:\n",
    "                f.write(html)\n",
    "                print(file_name)\n",
    "                logging.info(\"complete downloading\" +file_name)\n",
    "        except AttributeError as e:\n",
    "\n",
    "            print(\"second_exception\")\n",
    "            print(e)\n",
    "            pass\n"
   ]
  },
  {
   "cell_type": "code",
   "execution_count": 8,
   "metadata": {},
   "outputs": [
    {
     "ename": "NoSuchElementException",
     "evalue": "Message: no such element: Unable to locate element: {\"method\":\"css selector\",\"selector\":\".last-table\"}\n  (Session info: chrome=114.0.5735.198)\nStacktrace:\n0   chromedriver                        0x000000010f277598 chromedriver + 4973976\n1   chromedriver                        0x000000010f26e913 chromedriver + 4938003\n2   chromedriver                        0x000000010ee2bcd6 chromedriver + 470230\n3   chromedriver                        0x000000010ee6f2ff chromedriver + 746239\n4   chromedriver                        0x000000010ee6f591 chromedriver + 746897\n5   chromedriver                        0x000000010eeb1384 chromedriver + 1016708\n6   chromedriver                        0x000000010ee939ed chromedriver + 895469\n7   chromedriver                        0x000000010eeae856 chromedriver + 1005654\n8   chromedriver                        0x000000010ee93793 chromedriver + 894867\n9   chromedriver                        0x000000010ee6121f chromedriver + 688671\n10  chromedriver                        0x000000010ee6256e chromedriver + 693614\n11  chromedriver                        0x000000010f231bb7 chromedriver + 4688823\n12  chromedriver                        0x000000010f236a51 chromedriver + 4708945\n13  chromedriver                        0x000000010f23d40f chromedriver + 4736015\n14  chromedriver                        0x000000010f23791a chromedriver + 4712730\n15  chromedriver                        0x000000010f20a87c chromedriver + 4528252\n16  chromedriver                        0x000000010f256f28 chromedriver + 4841256\n17  chromedriver                        0x000000010f2570a7 chromedriver + 4841639\n18  chromedriver                        0x000000010f26828f chromedriver + 4911759\n19  libsystem_pthread.dylib             0x00007ff80ceab1d3 _pthread_start + 125\n20  libsystem_pthread.dylib             0x00007ff80cea6bd3 thread_start + 15\n",
     "output_type": "error",
     "traceback": [
      "\u001b[0;31m---------------------------------------------------------------------------\u001b[0m",
      "\u001b[0;31mNoSuchElementException\u001b[0m                    Traceback (most recent call last)",
      "\u001b[0;32m/var/folders/_q/5b0cfy_d2ks1qlbxzgflbk880000gn/T/ipykernel_83774/2691607075.py\u001b[0m in \u001b[0;36m<module>\u001b[0;34m\u001b[0m\n\u001b[0;32m----> 1\u001b[0;31m \u001b[0mget_html\u001b[0m\u001b[0;34m(\u001b[0m\u001b[0;34m\"/\"\u001b[0m\u001b[0;34m)\u001b[0m\u001b[0;34m\u001b[0m\u001b[0;34m\u001b[0m\u001b[0m\n\u001b[0m",
      "\u001b[0;32m/var/folders/_q/5b0cfy_d2ks1qlbxzgflbk880000gn/T/ipykernel_83774/3717339070.py\u001b[0m in \u001b[0;36mget_html\u001b[0;34m(save_path)\u001b[0m\n\u001b[1;32m     17\u001b[0m \u001b[0;34m\u001b[0m\u001b[0m\n\u001b[1;32m     18\u001b[0m \u001b[0;34m\u001b[0m\u001b[0m\n\u001b[0;32m---> 19\u001b[0;31m     \u001b[0mmain_table\u001b[0m \u001b[0;34m=\u001b[0m \u001b[0mbrowser1\u001b[0m\u001b[0;34m.\u001b[0m\u001b[0mfind_element\u001b[0m\u001b[0;34m(\u001b[0m\u001b[0mBy\u001b[0m\u001b[0;34m.\u001b[0m\u001b[0mCLASS_NAME\u001b[0m\u001b[0;34m,\u001b[0m \u001b[0;34m'last-table'\u001b[0m\u001b[0;34m)\u001b[0m\u001b[0;34m\u001b[0m\u001b[0;34m\u001b[0m\u001b[0m\n\u001b[0m\u001b[1;32m     20\u001b[0m \u001b[0;34m\u001b[0m\u001b[0m\n\u001b[1;32m     21\u001b[0m     \u001b[0mtr_elements\u001b[0m \u001b[0;34m=\u001b[0m \u001b[0mmain_table\u001b[0m\u001b[0;34m.\u001b[0m\u001b[0mfind_elements\u001b[0m\u001b[0;34m(\u001b[0m\u001b[0mBy\u001b[0m\u001b[0;34m.\u001b[0m\u001b[0mTAG_NAME\u001b[0m\u001b[0;34m,\u001b[0m \u001b[0;34m'tr'\u001b[0m\u001b[0;34m)\u001b[0m\u001b[0;34m\u001b[0m\u001b[0;34m\u001b[0m\u001b[0m\n",
      "\u001b[0;32m/opt/anaconda3/lib/python3.9/site-packages/selenium/webdriver/remote/webdriver.py\u001b[0m in \u001b[0;36mfind_element\u001b[0;34m(self, by, value)\u001b[0m\n\u001b[1;32m   1242\u001b[0m             \u001b[0mvalue\u001b[0m \u001b[0;34m=\u001b[0m \u001b[0;34m'[name=\"%s\"]'\u001b[0m \u001b[0;34m%\u001b[0m \u001b[0mvalue\u001b[0m\u001b[0;34m\u001b[0m\u001b[0;34m\u001b[0m\u001b[0m\n\u001b[1;32m   1243\u001b[0m \u001b[0;34m\u001b[0m\u001b[0m\n\u001b[0;32m-> 1244\u001b[0;31m         return self.execute(Command.FIND_ELEMENT, {\n\u001b[0m\u001b[1;32m   1245\u001b[0m             \u001b[0;34m'using'\u001b[0m\u001b[0;34m:\u001b[0m \u001b[0mby\u001b[0m\u001b[0;34m,\u001b[0m\u001b[0;34m\u001b[0m\u001b[0;34m\u001b[0m\u001b[0m\n\u001b[1;32m   1246\u001b[0m             'value': value})['value']\n",
      "\u001b[0;32m/opt/anaconda3/lib/python3.9/site-packages/selenium/webdriver/remote/webdriver.py\u001b[0m in \u001b[0;36mexecute\u001b[0;34m(self, driver_command, params)\u001b[0m\n\u001b[1;32m    422\u001b[0m         \u001b[0mresponse\u001b[0m \u001b[0;34m=\u001b[0m \u001b[0mself\u001b[0m\u001b[0;34m.\u001b[0m\u001b[0mcommand_executor\u001b[0m\u001b[0;34m.\u001b[0m\u001b[0mexecute\u001b[0m\u001b[0;34m(\u001b[0m\u001b[0mdriver_command\u001b[0m\u001b[0;34m,\u001b[0m \u001b[0mparams\u001b[0m\u001b[0;34m)\u001b[0m\u001b[0;34m\u001b[0m\u001b[0;34m\u001b[0m\u001b[0m\n\u001b[1;32m    423\u001b[0m         \u001b[0;32mif\u001b[0m \u001b[0mresponse\u001b[0m\u001b[0;34m:\u001b[0m\u001b[0;34m\u001b[0m\u001b[0;34m\u001b[0m\u001b[0m\n\u001b[0;32m--> 424\u001b[0;31m             \u001b[0mself\u001b[0m\u001b[0;34m.\u001b[0m\u001b[0merror_handler\u001b[0m\u001b[0;34m.\u001b[0m\u001b[0mcheck_response\u001b[0m\u001b[0;34m(\u001b[0m\u001b[0mresponse\u001b[0m\u001b[0;34m)\u001b[0m\u001b[0;34m\u001b[0m\u001b[0;34m\u001b[0m\u001b[0m\n\u001b[0m\u001b[1;32m    425\u001b[0m             response['value'] = self._unwrap_value(\n\u001b[1;32m    426\u001b[0m                 response.get('value', None))\n",
      "\u001b[0;32m/opt/anaconda3/lib/python3.9/site-packages/selenium/webdriver/remote/errorhandler.py\u001b[0m in \u001b[0;36mcheck_response\u001b[0;34m(self, response)\u001b[0m\n\u001b[1;32m    245\u001b[0m                 \u001b[0malert_text\u001b[0m \u001b[0;34m=\u001b[0m \u001b[0mvalue\u001b[0m\u001b[0;34m[\u001b[0m\u001b[0;34m'alert'\u001b[0m\u001b[0;34m]\u001b[0m\u001b[0;34m.\u001b[0m\u001b[0mget\u001b[0m\u001b[0;34m(\u001b[0m\u001b[0;34m'text'\u001b[0m\u001b[0;34m)\u001b[0m\u001b[0;34m\u001b[0m\u001b[0;34m\u001b[0m\u001b[0m\n\u001b[1;32m    246\u001b[0m             \u001b[0;32mraise\u001b[0m \u001b[0mexception_class\u001b[0m\u001b[0;34m(\u001b[0m\u001b[0mmessage\u001b[0m\u001b[0;34m,\u001b[0m \u001b[0mscreen\u001b[0m\u001b[0;34m,\u001b[0m \u001b[0mstacktrace\u001b[0m\u001b[0;34m,\u001b[0m \u001b[0malert_text\u001b[0m\u001b[0;34m)\u001b[0m  \u001b[0;31m# type: ignore[call-arg]  # mypy is not smart enough here\u001b[0m\u001b[0;34m\u001b[0m\u001b[0;34m\u001b[0m\u001b[0m\n\u001b[0;32m--> 247\u001b[0;31m         \u001b[0;32mraise\u001b[0m \u001b[0mexception_class\u001b[0m\u001b[0;34m(\u001b[0m\u001b[0mmessage\u001b[0m\u001b[0;34m,\u001b[0m \u001b[0mscreen\u001b[0m\u001b[0;34m,\u001b[0m \u001b[0mstacktrace\u001b[0m\u001b[0;34m)\u001b[0m\u001b[0;34m\u001b[0m\u001b[0;34m\u001b[0m\u001b[0m\n\u001b[0m\u001b[1;32m    248\u001b[0m \u001b[0;34m\u001b[0m\u001b[0m\n\u001b[1;32m    249\u001b[0m     \u001b[0;32mdef\u001b[0m \u001b[0m_value_or_default\u001b[0m\u001b[0;34m(\u001b[0m\u001b[0mself\u001b[0m\u001b[0;34m,\u001b[0m \u001b[0mobj\u001b[0m\u001b[0;34m:\u001b[0m \u001b[0mMapping\u001b[0m\u001b[0;34m[\u001b[0m\u001b[0m_KT\u001b[0m\u001b[0;34m,\u001b[0m \u001b[0m_VT\u001b[0m\u001b[0;34m]\u001b[0m\u001b[0;34m,\u001b[0m \u001b[0mkey\u001b[0m\u001b[0;34m:\u001b[0m \u001b[0m_KT\u001b[0m\u001b[0;34m,\u001b[0m \u001b[0mdefault\u001b[0m\u001b[0;34m:\u001b[0m \u001b[0m_VT\u001b[0m\u001b[0;34m)\u001b[0m \u001b[0;34m->\u001b[0m \u001b[0m_VT\u001b[0m\u001b[0;34m:\u001b[0m\u001b[0;34m\u001b[0m\u001b[0;34m\u001b[0m\u001b[0m\n",
      "\u001b[0;31mNoSuchElementException\u001b[0m: Message: no such element: Unable to locate element: {\"method\":\"css selector\",\"selector\":\".last-table\"}\n  (Session info: chrome=114.0.5735.198)\nStacktrace:\n0   chromedriver                        0x000000010f277598 chromedriver + 4973976\n1   chromedriver                        0x000000010f26e913 chromedriver + 4938003\n2   chromedriver                        0x000000010ee2bcd6 chromedriver + 470230\n3   chromedriver                        0x000000010ee6f2ff chromedriver + 746239\n4   chromedriver                        0x000000010ee6f591 chromedriver + 746897\n5   chromedriver                        0x000000010eeb1384 chromedriver + 1016708\n6   chromedriver                        0x000000010ee939ed chromedriver + 895469\n7   chromedriver                        0x000000010eeae856 chromedriver + 1005654\n8   chromedriver                        0x000000010ee93793 chromedriver + 894867\n9   chromedriver                        0x000000010ee6121f chromedriver + 688671\n10  chromedriver                        0x000000010ee6256e chromedriver + 693614\n11  chromedriver                        0x000000010f231bb7 chromedriver + 4688823\n12  chromedriver                        0x000000010f236a51 chromedriver + 4708945\n13  chromedriver                        0x000000010f23d40f chromedriver + 4736015\n14  chromedriver                        0x000000010f23791a chromedriver + 4712730\n15  chromedriver                        0x000000010f20a87c chromedriver + 4528252\n16  chromedriver                        0x000000010f256f28 chromedriver + 4841256\n17  chromedriver                        0x000000010f2570a7 chromedriver + 4841639\n18  chromedriver                        0x000000010f26828f chromedriver + 4911759\n19  libsystem_pthread.dylib             0x00007ff80ceab1d3 _pthread_start + 125\n20  libsystem_pthread.dylib             0x00007ff80cea6bd3 thread_start + 15\n"
     ]
    }
   ],
   "source": [
    "get_html(\"/\")"
   ]
  },
  {
   "cell_type": "code",
   "execution_count": 102,
   "metadata": {},
   "outputs": [
    {
     "data": {
      "text/plain": [
       "<bound method WebDriver.close of <selenium.webdriver.chrome.webdriver.WebDriver (session=\"dd0ffd2aae840de37fec0845f61a1296\")>>"
      ]
     },
     "execution_count": 102,
     "metadata": {},
     "output_type": "execute_result"
    }
   ],
   "source": [
    "browser1.close"
   ]
  }
 ],
 "metadata": {
  "interpreter": {
   "hash": "1a1af0ee75eeea9e2e1ee996c87e7a2b11a0bebd85af04bb136d915cefc0abce"
  },
  "kernelspec": {
   "display_name": "Python 3.11.1 64-bit",
   "language": "python",
   "name": "python3"
  },
  "language_info": {
   "codemirror_mode": {
    "name": "ipython",
    "version": 3
   },
   "file_extension": ".py",
   "mimetype": "text/x-python",
   "name": "python",
   "nbconvert_exporter": "python",
   "pygments_lexer": "ipython3",
   "version": "3.9.7"
  },
  "orig_nbformat": 4
 },
 "nbformat": 4,
 "nbformat_minor": 2
}
